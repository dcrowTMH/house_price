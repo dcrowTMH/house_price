{
 "cells": [
  {
   "cell_type": "markdown",
   "id": "01528780",
   "metadata": {},
   "source": [
    "# Dimension reduction"
   ]
  },
  {
   "cell_type": "markdown",
   "id": "932d7edf",
   "metadata": {},
   "source": [
    "--------------\n",
    "\n",
    "Let's follow the video as below to check is there any different with PCA\n",
    "\n",
    "https://www.youtube.com/watch?v=nq6iPZVUxZU\n",
    "\n",
    "------------------\n",
    "\n",
    "Note for the video (Up-coming topic for investigation):\n",
    "\n",
    "Technique for dimention reduction:\n",
    "\n",
    "1) Matrix factorization\n",
    "\n",
    "- PCA\n",
    "\n",
    "- Linear autoencoder\n",
    "\n",
    "- Latent Dirichlet Allocation\n",
    "\n",
    "- Non-negative Matrix factorization\n",
    "\n",
    "- Generalised Low Rank Model\n",
    "\n",
    "- Work2Vec\n",
    "\n",
    "- GloVe\n",
    "\n",
    "-------------------------------------------\n",
    "\n",
    "2) Neighbor graph\n",
    "\n",
    "- Laplacian eigenmap\n",
    "\n",
    "- Hessian eigenmaps\n",
    "\n",
    "- Local tangent space alignment\n",
    "\n",
    "- JSE\n",
    "\n",
    "- isomap\n",
    "\n",
    "- t-SNE\n",
    "\n",
    "- Local linear embedding\n",
    "\n",
    "- UMAP\n",
    "\n",
    "----------------------------"
   ]
  },
  {
   "cell_type": "code",
   "execution_count": null,
   "id": "14d823ad",
   "metadata": {},
   "outputs": [],
   "source": []
  }
 ],
 "metadata": {
  "kernelspec": {
   "display_name": "Python [conda env:sklearn-env] *",
   "language": "python",
   "name": "conda-env-sklearn-env-py"
  },
  "language_info": {
   "codemirror_mode": {
    "name": "ipython",
    "version": 3
   },
   "file_extension": ".py",
   "mimetype": "text/x-python",
   "name": "python",
   "nbconvert_exporter": "python",
   "pygments_lexer": "ipython3",
   "version": "3.9.7"
  }
 },
 "nbformat": 4,
 "nbformat_minor": 5
}
